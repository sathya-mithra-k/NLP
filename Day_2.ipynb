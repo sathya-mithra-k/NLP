{
 "cells": [
  {
   "cell_type": "code",
   "execution_count": 3,
   "id": "4b265161",
   "metadata": {},
   "outputs": [],
   "source": [
    "import nltk"
   ]
  },
  {
   "cell_type": "code",
   "execution_count": 5,
   "id": "9300cfcb",
   "metadata": {},
   "outputs": [],
   "source": [
    "from nltk.stem.porter import*"
   ]
  },
  {
   "cell_type": "code",
   "execution_count": 6,
   "id": "d7f78b6b",
   "metadata": {},
   "outputs": [],
   "source": [
    "stemmer = PorterStemmer()"
   ]
  },
  {
   "cell_type": "code",
   "execution_count": 7,
   "id": "9c502434",
   "metadata": {},
   "outputs": [],
   "source": [
    "words = ['fly','flew', 'flown','flying','flyable','flyer']"
   ]
  },
  {
   "cell_type": "code",
   "execution_count": 8,
   "id": "f459979f",
   "metadata": {},
   "outputs": [
    {
     "name": "stdout",
     "output_type": "stream",
     "text": [
      "fly------>fli\n",
      "flew------>flew\n",
      "flown------>flown\n",
      "flying------>fli\n",
      "flyable------>flyabl\n",
      "flyer------>flyer\n"
     ]
    }
   ],
   "source": [
    "for word in words:\n",
    "    print(f\"{word}------>{stemmer.stem(word)}\")"
   ]
  },
  {
   "cell_type": "code",
   "execution_count": 9,
   "id": "99b960c9",
   "metadata": {},
   "outputs": [],
   "source": [
    "words2 = ['walk', 'walking','walked','walker','walkable']"
   ]
  },
  {
   "cell_type": "code",
   "execution_count": 11,
   "id": "39cc4525",
   "metadata": {},
   "outputs": [
    {
     "name": "stdout",
     "output_type": "stream",
     "text": [
      "walk------>walk\n",
      "walking------>walk\n",
      "walked------>walk\n",
      "walker------>walker\n",
      "walkable------>walkabl\n"
     ]
    }
   ],
   "source": [
    "for word in words2:\n",
    "    print(f\"{word}------>{stemmer.stem(word)}\")"
   ]
  },
  {
   "cell_type": "code",
   "execution_count": 12,
   "id": "07bfa845",
   "metadata": {},
   "outputs": [],
   "source": [
    "from nltk.stem.snowball import SnowballStemmer"
   ]
  },
  {
   "cell_type": "code",
   "execution_count": 13,
   "id": "37f4d503",
   "metadata": {},
   "outputs": [],
   "source": [
    "newStemmer = SnowballStemmer(language = 'english')"
   ]
  },
  {
   "cell_type": "code",
   "execution_count": 14,
   "id": "c6735ccd",
   "metadata": {},
   "outputs": [],
   "source": [
    "words = ['fly','flew', 'flown','flying','flyable','flyer']"
   ]
  },
  {
   "cell_type": "code",
   "execution_count": 15,
   "id": "c6cc967b",
   "metadata": {},
   "outputs": [
    {
     "name": "stdout",
     "output_type": "stream",
     "text": [
      "fly------>fli\n",
      "flew------>flew\n",
      "flown------>flown\n",
      "flying------>fli\n",
      "flyable------>flyabl\n",
      "flyer------>flyer\n"
     ]
    }
   ],
   "source": [
    "for word in words:\n",
    "    print(f\"{word}------>{stemmer.stem(word)}\")"
   ]
  },
  {
   "cell_type": "code",
   "execution_count": 16,
   "id": "43cbbb20",
   "metadata": {},
   "outputs": [],
   "source": [
    "words2 = ['walk', 'walking','walked','walker','walkable']"
   ]
  },
  {
   "cell_type": "code",
   "execution_count": 17,
   "id": "7d39e8f4",
   "metadata": {},
   "outputs": [
    {
     "name": "stdout",
     "output_type": "stream",
     "text": [
      "walk------>walk\n",
      "walking------>walk\n",
      "walked------>walk\n",
      "walker------>walker\n",
      "walkable------>walkabl\n"
     ]
    }
   ],
   "source": [
    "for word in words2:\n",
    "    print(f\"{word}------>{stemmer.stem(word)}\")"
   ]
  },
  {
   "cell_type": "markdown",
   "id": "c5d96c6d-54eb-4a84-934e-382440342c98",
   "metadata": {},
   "source": [
    "LEMATIZATION"
   ]
  },
  {
   "cell_type": "code",
   "execution_count": 1,
   "id": "7b416ae9",
   "metadata": {},
   "outputs": [],
   "source": [
    "import spacy"
   ]
  },
  {
   "cell_type": "code",
   "execution_count": 3,
   "id": "29f0ec3f-ac99-4e93-9ccc-fbe12128adbc",
   "metadata": {},
   "outputs": [],
   "source": [
    "nlp = spacy.load('en_core_web_sm')"
   ]
  },
  {
   "cell_type": "code",
   "execution_count": 5,
   "id": "696977b2-0a14-40a4-ba96-b83cc81c59b7",
   "metadata": {},
   "outputs": [],
   "source": [
    "txt = nlp(\"I am a walker walking a walkable distance because i love to walk my way\")"
   ]
  },
  {
   "cell_type": "code",
   "execution_count": 6,
   "id": "b34e58c8-3392-4685-8ec6-543b7cd6a9e4",
   "metadata": {},
   "outputs": [
    {
     "name": "stdout",
     "output_type": "stream",
     "text": [
      "I \t PRON \t 4690420944186131903 \t I\n",
      "am \t AUX \t 10382539506755952630 \t be\n",
      "a \t DET \t 11901859001352538922 \t a\n",
      "walker \t NOUN \t 8602877409261983952 \t walker\n",
      "walking \t VERB \t 1674876016505392235 \t walk\n",
      "a \t DET \t 11901859001352538922 \t a\n",
      "walkable \t ADJ \t 8895873580232183992 \t walkable\n",
      "distance \t NOUN \t 2136676006725676517 \t distance\n",
      "because \t SCONJ \t 16950148841647037698 \t because\n",
      "i \t PRON \t 4690420944186131903 \t I\n",
      "love \t VERB \t 3702023516439754181 \t love\n",
      "to \t PART \t 3791531372978436496 \t to\n",
      "walk \t VERB \t 1674876016505392235 \t walk\n",
      "my \t PRON \t 227504873216781231 \t my\n",
      "way \t NOUN \t 6878210874361030284 \t way\n"
     ]
    }
   ],
   "source": [
    "for token in txt:\n",
    "  print(token.text, \"\\t\", token.pos_, '\\t',token.lemma, '\\t', token.lemma_ )"
   ]
  },
  {
   "cell_type": "markdown",
   "id": "672955f3-c2ad-4ca9-a15c-e850eb53aaa3",
   "metadata": {},
   "source": [
    "Stop Words"
   ]
  },
  {
   "cell_type": "code",
   "execution_count": 7,
   "id": "3bf3acef-cf27-4ef5-a485-8817f568ff83",
   "metadata": {},
   "outputs": [
    {
     "name": "stdout",
     "output_type": "stream",
     "text": [
      "{'at', 'fifty', 'hers', 'mine', 'also', 'give', 'ourselves', 'further', 'until', 'made', 'between', 'seeming', 'wherever', 'thru', 'anything', 'whereupon', 'fifteen', 'onto', '’m', 'herself', 'take', \"'re\", 'three', 'anyway', 'serious', 'becomes', 'such', 'had', 'yet', 'can', 'keep', 'after', 'mostly', 'yourselves', 'do', 'make', 'six', 'next', 'already', 'should', 'neither', 'so', 'within', 'how', 'just', '‘re', 'been', 'formerly', 'sometimes', 'though', 'some', 'thus', 'than', 'wherein', 'somewhere', 'those', 'what', 'whereby', 'alone', 'top', 'rather', 'side', 'became', 'used', 'does', 'enough', 'if', 'is', 'other', 'most', 'even', 'against', 'in', 'whereas', 'done', 'it', 'whereafter', 'n’t', 'former', 'twelve', 'anyhow', 'might', 'forty', 'therein', 'who', 'whatever', 'everyone', 'one', 'third', \"'m\", 'please', 'when', 'more', 'would', 'everywhere', 'are', 'were', 'see', '’ve', 'ever', '‘s', 'part', 'here', 'no', 'noone', 'yourself', 'on', 'else', 'myself', 'various', 'regarding', 'before', 'hence', 'back', 'they', 'all', 'doing', 'indeed', 'we', 'could', 'latterly', 'meanwhile', 'himself', 'still', 'without', 'although', 'hundred', 'herein', 'seemed', 'empty', 'first', 'you', 'unless', 'seems', 'anyone', 'each', 'during', 'out', 'not', 'least', 'them', 'whether', 'whenever', 'cannot', 'an', 'four', 'via', 'and', 'sixty', 'hereupon', 'above', 'over', 'two', '’re', 'less', 're', 'quite', 'from', 'whom', 'ten', 'bottom', 'name', 'call', 'otherwise', '’s', 'really', 'perhaps', 'becoming', 'for', 'have', 'her', 'along', 'few', 'either', 'into', 'nine', 'amongst', 'once', 'own', 'sometime', 'whose', 'everything', 'somehow', 'my', 'eleven', 'too', 'five', 'almost', 'never', 'nor', 'whence', 'seem', 'she', 'being', 'n‘t', 'per', 'because', 'get', 'very', \"'d\", 'down', 'say', 'towards', 'last', 'behind', '‘m', 'around', 'this', 'afterwards', 'nothing', '‘ve', 'together', 'several', 'thereby', 'however', 'beside', 'again', 'nowhere', 'besides', 'he', 'only', 'where', 'was', 'hereafter', 'move', 'thereafter', 'latter', 'beyond', 'namely', 'by', 'about', 'upon', 'me', '’d', 'same', 'to', 'go', 'put', 'him', 'themselves', '‘ll', 'amount', 'therefore', 'thence', 'every', 'under', \"n't\", 'among', 'while', 'hereby', 'show', 'with', \"'ve\", 'us', 'as', 'that', 'front', 'none', 'others', 'always', 'up', 'but', 'often', 'become', 'then', 'am', 'i', 'eight', 'well', 'whole', 'elsewhere', 'these', 'full', 'anywhere', 'why', 'be', 'using', 'his', 'throughout', 'whither', 'there', 'much', 'nevertheless', 'both', 'its', \"'ll\", 'many', 'across', 'something', 'their', 'has', 'due', 'a', '’ll', 'of', 'ours', '‘d', 'whoever', 'did', 'nobody', 'must', \"'s\", 'may', 'beforehand', 'twenty', 'or', 'will', 'toward', 'since', 'your', 'ca', 'which', 'through', 'our', 'another', 'any', 'moreover', 'below', 'the', 'someone', 'itself', 'yours', 'now', 'off', 'except', 'thereupon'}\n"
     ]
    }
   ],
   "source": [
    "print(nlp.Defaults.stop_words)"
   ]
  },
  {
   "cell_type": "code",
   "execution_count": 8,
   "id": "db746c71-7195-4101-af89-49ed4eace524",
   "metadata": {},
   "outputs": [
    {
     "data": {
      "text/plain": [
       "False"
      ]
     },
     "execution_count": 8,
     "metadata": {},
     "output_type": "execute_result"
    }
   ],
   "source": [
    "nlp.vocab['sorry'].is_stop"
   ]
  },
  {
   "cell_type": "code",
   "execution_count": 10,
   "id": "fdfedefa-a2a6-41b8-bac3-b04e381305c0",
   "metadata": {},
   "outputs": [
    {
     "data": {
      "text/plain": [
       "False"
      ]
     },
     "execution_count": 10,
     "metadata": {},
     "output_type": "execute_result"
    }
   ],
   "source": [
    "nlp.vocab['hello'].is_stop"
   ]
  },
  {
   "cell_type": "code",
   "execution_count": 11,
   "id": "39e4b47a-f92b-4a3d-aace-76d62b53c5b8",
   "metadata": {},
   "outputs": [
    {
     "data": {
      "text/plain": [
       "True"
      ]
     },
     "execution_count": 11,
     "metadata": {},
     "output_type": "execute_result"
    }
   ],
   "source": [
    "nlp.vocab['together'].is_stop"
   ]
  },
  {
   "cell_type": "markdown",
   "id": "c7617c29-6e9e-45b6-a8b4-b526bc51dcdb",
   "metadata": {},
   "source": [
    "Adding word to NLP stop words"
   ]
  },
  {
   "cell_type": "code",
   "execution_count": 38,
   "id": "d8dce9a4-a687-4209-bcba-8d04424ed049",
   "metadata": {},
   "outputs": [],
   "source": [
    "nlp.Defaults.stop_words.add('wow')"
   ]
  },
  {
   "cell_type": "code",
   "execution_count": 39,
   "id": "982a08cd-a4ab-4697-aa89-979eaf2df4b6",
   "metadata": {},
   "outputs": [
    {
     "name": "stdout",
     "output_type": "stream",
     "text": [
      "{'at', 'fifty', 'hers', 'mine', 'also', 'give', 'ourselves', 'further', 'until', 'made', 'between', 'seeming', 'wherever', 'thru', 'anything', 'whereupon', 'fifteen', 'onto', '’m', 'herself', 'take', \"'re\", 'three', 'anyway', 'serious', 'becomes', 'such', 'had', 'yet', 'can', 'keep', 'after', 'mostly', 'yourselves', 'do', 'make', 'six', 'next', 'already', 'should', 'neither', 'so', 'within', 'how', 'just', '‘re', 'been', 'formerly', 'sometimes', 'though', 'some', 'thus', 'than', 'wherein', 'somewhere', 'those', 'what', 'whereby', 'alone', 'top', 'rather', 'side', 'became', 'used', 'does', 'enough', 'if', 'is', 'other', 'most', 'even', 'against', 'in', 'whereas', 'done', 'it', 'whereafter', 'n’t', 'former', 'twelve', 'anyhow', 'might', 'forty', 'hello', 'therein', 'who', 'whatever', 'everyone', 'one', 'third', \"'m\", 'please', 'when', 'more', 'would', 'everywhere', 'are', 'were', 'see', '’ve', 'ever', '‘s', 'part', 'here', 'no', 'noone', 'yourself', 'on', 'else', 'myself', 'various', 'regarding', 'before', 'hence', 'back', 'they', 'all', 'doing', 'indeed', 'we', 'could', 'latterly', 'meanwhile', 'himself', 'still', 'without', 'although', 'hundred', 'herein', 'seemed', 'empty', 'first', 'you', 'unless', 'seems', 'anyone', 'each', 'during', 'out', 'not', 'least', 'them', 'whether', 'whenever', 'cannot', 'an', 'four', 'via', 'and', 'sixty', 'hereupon', 'above', 'over', 'two', '’re', 'less', 're', 'quite', 'from', 'whom', 'ten', 'bottom', 'name', 'call', 'otherwise', '’s', 'really', 'perhaps', 'becoming', 'for', 'wow', 'have', 'her', 'along', 'few', 'either', 'into', 'nine', 'amongst', 'once', 'own', 'sometime', 'whose', 'everything', 'somehow', 'my', 'eleven', 'too', 'five', 'almost', 'never', 'nor', 'whence', 'seem', 'she', 'being', 'n‘t', 'per', 'because', 'get', 'very', \"'d\", 'down', 'say', 'towards', 'last', 'behind', '‘m', 'around', 'this', 'afterwards', 'nothing', '‘ve', 'together', 'several', 'thereby', 'however', 'beside', 'again', 'nowhere', 'besides', 'he', 'only', 'where', 'was', 'hereafter', 'move', 'thereafter', 'latter', 'beyond', 'namely', 'by', 'about', 'upon', 'me', '’d', 'same', 'to', 'go', 'put', 'him', 'themselves', '‘ll', 'amount', 'therefore', 'thence', 'every', 'under', \"n't\", 'among', 'while', 'hereby', 'show', 'with', \"'ve\", 'us', 'as', 'that', 'front', 'none', 'others', 'always', 'up', 'but', 'often', 'become', 'then', 'am', 'i', 'eight', 'well', 'whole', 'elsewhere', 'these', 'full', 'anywhere', 'why', 'be', 'using', 'his', 'throughout', 'whither', 'there', 'much', 'nevertheless', 'both', 'its', \"'ll\", 'many', 'across', 'something', 'their', 'has', 'due', 'a', '’ll', 'of', 'ours', '‘d', 'whoever', 'did', 'nobody', 'must', \"'s\", 'may', 'beforehand', 'twenty', 'or', 'will', 'toward', 'since', 'your', 'ca', 'which', 'through', 'our', 'another', 'any', 'moreover', 'below', 'the', 'someone', 'itself', 'yours', 'now', 'off', 'except', 'thereupon'}\n"
     ]
    }
   ],
   "source": [
    "print(nlp.Defaults.stop_words)"
   ]
  },
  {
   "cell_type": "code",
   "execution_count": 41,
   "id": "d2b90a84-c6a2-4cfa-9f14-96d828062dc2",
   "metadata": {},
   "outputs": [
    {
     "data": {
      "text/plain": [
       "True"
      ]
     },
     "execution_count": 41,
     "metadata": {},
     "output_type": "execute_result"
    }
   ],
   "source": [
    "nlp.vocab['wow'].is_stop"
   ]
  },
  {
   "cell_type": "markdown",
   "id": "93bc3146-4aa0-4e7a-a510-627d777ea2a4",
   "metadata": {},
   "source": [
    "Removing word from NLP stop word"
   ]
  },
  {
   "cell_type": "code",
   "execution_count": 43,
   "id": "0dbda4f7-4cf3-47a6-8bdb-fdf65bc52152",
   "metadata": {},
   "outputs": [],
   "source": [
    "nlp.Defaults.stop_words.remove('wow')"
   ]
  },
  {
   "cell_type": "code",
   "execution_count": null,
   "id": "0e9f8b0c-4c46-457e-a694-1716a235a9cc",
   "metadata": {},
   "outputs": [],
   "source": []
  }
 ],
 "metadata": {
  "kernelspec": {
   "display_name": "Python 3 (ipykernel)",
   "language": "python",
   "name": "python3"
  },
  "language_info": {
   "codemirror_mode": {
    "name": "ipython",
    "version": 3
   },
   "file_extension": ".py",
   "mimetype": "text/x-python",
   "name": "python",
   "nbconvert_exporter": "python",
   "pygments_lexer": "ipython3",
   "version": "3.11.2"
  }
 },
 "nbformat": 4,
 "nbformat_minor": 5
}
