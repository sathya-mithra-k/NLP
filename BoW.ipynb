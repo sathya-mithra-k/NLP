{
  "nbformat": 4,
  "nbformat_minor": 0,
  "metadata": {
    "colab": {
      "provenance": []
    },
    "kernelspec": {
      "name": "python3",
      "display_name": "Python 3"
    },
    "language_info": {
      "name": "python"
    }
  },
  "cells": [
    {
      "cell_type": "code",
      "source": [
        "from sklearn.feature_extraction.text import CountVectorizer"
      ],
      "metadata": {
        "id": "0hRD6B_SOtxv"
      },
      "execution_count": 2,
      "outputs": []
    },
    {
      "cell_type": "code",
      "source": [
        "cv = CountVectorizer()"
      ],
      "metadata": {
        "id": "T0-aWTZhO3uO"
      },
      "execution_count": 30,
      "outputs": []
    },
    {
      "cell_type": "code",
      "source": [
        "para = [\"She eats pizza\", \"pizza is good\", \"she like pizza\"]"
      ],
      "metadata": {
        "id": "2mSJsCA0PGWv"
      },
      "execution_count": 34,
      "outputs": []
    },
    {
      "cell_type": "code",
      "source": [
        "bog = cv.fit_transform(para)"
      ],
      "metadata": {
        "id": "uW-DvodaO7JC"
      },
      "execution_count": 32,
      "outputs": []
    },
    {
      "cell_type": "code",
      "source": [
        "print(\"Mapping:  \", cv.vocabulary_)"
      ],
      "metadata": {
        "colab": {
          "base_uri": "https://localhost:8080/"
        },
        "id": "5vjHz3xBPFGI",
        "outputId": "0f200c02-be49-45cb-e7c7-1c609fe09389"
      },
      "execution_count": 36,
      "outputs": [
        {
          "output_type": "stream",
          "name": "stdout",
          "text": [
            "Mapping:   {'she': 5, 'eats': 0, 'pizza': 4, 'is': 2, 'good': 1, 'like': 3}\n"
          ]
        }
      ]
    },
    {
      "cell_type": "code",
      "source": [
        "print(\"BoW representation for 'She eats pizza': \", bog[0].toarray())\n",
        "print(\"BoW representation for 'pizza is good' : \",bog[1].toarray())\n",
        "print(\"BoW representation for 'she like pizza' : \",bog[1].toarray())"
      ],
      "metadata": {
        "colab": {
          "base_uri": "https://localhost:8080/"
        },
        "id": "MuW_85ypQKto",
        "outputId": "5decae2a-addf-4ccb-c656-604a015694da"
      },
      "execution_count": 37,
      "outputs": [
        {
          "output_type": "stream",
          "name": "stdout",
          "text": [
            "BoW representation for 'She eats pizza':  [[1 0 0 0 1 1]]\n",
            "BoW representation for 'pizza is good' :  [[0 1 1 0 1 0]]\n",
            "BoW representation for 'she like pizza' :  [[0 1 1 0 1 0]]\n"
          ]
        }
      ]
    },
    {
      "cell_type": "code",
      "source": [
        "temp = count_vect.fit_transform([\" Ate pizza and pizza\"])\n",
        "print(\"Bow representation :\", temp.toarray())"
      ],
      "metadata": {
        "colab": {
          "base_uri": "https://localhost:8080/"
        },
        "id": "vI5onNZiQNW4",
        "outputId": "b007c3a8-1c2b-4810-99f0-bc312f653b8f"
      },
      "execution_count": 28,
      "outputs": [
        {
          "output_type": "stream",
          "name": "stdout",
          "text": [
            "Bow representation : [[1 1 2]]\n"
          ]
        }
      ]
    },
    {
      "cell_type": "code",
      "source": [
        "count_vect.vocabulary_"
      ],
      "metadata": {
        "colab": {
          "base_uri": "https://localhost:8080/"
        },
        "id": "bOkeazJuRAmL",
        "outputId": "db2cf9ac-f894-4762-fd6c-40a60305c4e1"
      },
      "execution_count": 29,
      "outputs": [
        {
          "output_type": "execute_result",
          "data": {
            "text/plain": [
              "{'ate': 1, 'pizza': 2, 'and': 0}"
            ]
          },
          "metadata": {},
          "execution_count": 29
        }
      ]
    },
    {
      "cell_type": "code",
      "source": [
        "cv = CountVectorizer(binary=True)\n",
        "temp = cv.fit_transform([\" Ate pizza and pizza\"])\n",
        "print(\"Bow representation :\", temp.toarray())"
      ],
      "metadata": {
        "colab": {
          "base_uri": "https://localhost:8080/"
        },
        "id": "mS-2luoG2lfg",
        "outputId": "74903182-09df-4616-c712-47e2b4da11ee"
      },
      "execution_count": 39,
      "outputs": [
        {
          "output_type": "stream",
          "name": "stdout",
          "text": [
            "Bow representation : [[1 1 1]]\n"
          ]
        }
      ]
    }
  ]
}