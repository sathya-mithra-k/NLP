{
 "cells": [
  {
   "cell_type": "code",
   "execution_count": 1,
   "id": "1016d915-eacc-494a-af71-b2ac200ad525",
   "metadata": {},
   "outputs": [],
   "source": [
    "import spacy"
   ]
  },
  {
   "cell_type": "code",
   "execution_count": 2,
   "id": "68942839-bf75-4097-9750-0624fd0a5c45",
   "metadata": {},
   "outputs": [],
   "source": [
    "nlp = spacy.load('de_core_news_sm')"
   ]
  },
  {
   "cell_type": "code",
   "execution_count": 3,
   "id": "c3e9d971-f482-48fe-a297-0af2b54bb389",
   "metadata": {},
   "outputs": [],
   "source": [
    "string = 'Ich versuche, die Verarbeitung natürlicher Sprache zu üben, und es gefällt mir.'"
   ]
  },
  {
   "cell_type": "code",
   "execution_count": 4,
   "id": "bca3f182-dfed-42c3-9a63-1eb51bdd63a2",
   "metadata": {},
   "outputs": [],
   "source": [
    "doc = nlp(string)"
   ]
  },
  {
   "cell_type": "code",
   "execution_count": 5,
   "id": "966a9140-9a54-44cd-a1be-a773746ed643",
   "metadata": {},
   "outputs": [
    {
     "name": "stdout",
     "output_type": "stream",
     "text": [
      "Ich PRON sb\n",
      "versuche VERB ROOT\n",
      ", PUNCT punct\n",
      "die DET nk\n",
      "Verarbeitung NOUN oa\n",
      "natürlicher ADJ nk\n",
      "Sprache NOUN ag\n",
      "zu PART pm\n",
      "üben VERB oc\n",
      ", PUNCT punct\n",
      "und CCONJ cd\n",
      "es PRON sb\n",
      "gefällt VERB cj\n",
      "mir PRON da\n",
      ". PUNCT punct\n"
     ]
    }
   ],
   "source": [
    "for t in doc:\n",
    "    print(t.text, t.pos_, t.dep_)"
   ]
  },
  {
   "cell_type": "code",
   "execution_count": 6,
   "id": "08866e4f-8642-4c54-b72d-7b9bd1161e21",
   "metadata": {},
   "outputs": [
    {
     "data": {
      "text/plain": [
       "79"
      ]
     },
     "execution_count": 6,
     "metadata": {},
     "output_type": "execute_result"
    }
   ],
   "source": [
    "len(string)"
   ]
  },
  {
   "cell_type": "code",
   "execution_count": null,
   "id": "6949df81-5109-4810-be0f-274de48b2a42",
   "metadata": {},
   "outputs": [],
   "source": []
  }
 ],
 "metadata": {
  "kernelspec": {
   "display_name": "Python 3 (ipykernel)",
   "language": "python",
   "name": "python3"
  },
  "language_info": {
   "codemirror_mode": {
    "name": "ipython",
    "version": 3
   },
   "file_extension": ".py",
   "mimetype": "text/x-python",
   "name": "python",
   "nbconvert_exporter": "python",
   "pygments_lexer": "ipython3",
   "version": "3.11.2"
  }
 },
 "nbformat": 4,
 "nbformat_minor": 5
}
